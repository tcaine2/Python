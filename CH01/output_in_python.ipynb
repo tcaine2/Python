{
  "cells": [
    {
      "cell_type": "markdown",
      "metadata": {
        "id": "q-pVDquS4YLt"
      },
      "source": [
        "<center><img src=\"https://docs.google.com/drawings/d/e/2PACX-1vT4S4QVOsu1GtRuJmYftcySJMZGo_4woIB8S2p52sttdzdnRL3AEb-Z7A7dyBzLDQL1n9DYeqvmoV6r/pub?w=816&amp;h=144\"></center>\n",
        "\n",
        "# Chapter 1 - Basic Output"
      ]
    },
    {
      "cell_type": "markdown",
      "metadata": {
        "id": "vo9S7dCN4YLu"
      },
      "source": [
        "## History of `print`\n",
        "\n",
        "In the Dark Ages of computers - before *monitors* existed - we would use *printers* to see the output of a program. Can you believe that? What a waste of paper! Like, every time we wanted to see the results of running software we would have to send the output to a printer, wait for the printer to print, and then look at the output.\n",
        "\n",
        "In fact, the popular computer game **The Oregon Trail** (you know, \"You died of dysentery\" fame) was played this way! The classroom had a *teletype* machine (kind of like a typewriter that was hooked up to a computer). You could type in input and the input would go to a computer in a closet somewhere and send the results back to the teletype. You can [read about the history of **The Oregon Trail** here](https://www.fastcompany.com/90702587/oregon-trail-computer-game-50th-anniversary). It's bonkers. In fact, the computer game predates the paper version of Dungeons and Dragons!\n",
        "\n",
        "Anyhow, the reason this is important is that you need to understand that in computer programming languages the term `print` still lingers. It's evolved over the years to mean \"print the output on the computer monitor instead of print on an actual printer\". So when you see the term `print` in most languages, it really means that the results will be displayed on the screen."
      ]
    },
    {
      "cell_type": "markdown",
      "metadata": {
        "id": "ArMGEdoZ4YLv"
      },
      "source": [
        "## Different ways to use `print` in Python\n",
        "\n",
        "Check out the code below. It's only one line of code (but it is super easy to predict what is going to happen). Press the green triangle to *execute* (that means \"run\") the code:"
      ]
    },
    {
      "cell_type": "code",
      "execution_count": null,
      "metadata": {
        "colab": {
          "base_uri": "https://localhost:8080/"
        },
        "id": "jN6AvgPs4YLv",
        "outputId": "81f0b7a7-bed5-491a-a091-4a1a3098d98b"
      },
      "outputs": [],
      "source": [
        "print('This is the clock song, I am setting all the clocks wrong')"
      ]
    },
    {
      "cell_type": "markdown",
      "metadata": {
        "id": "J6Yi-Lg34YLw"
      },
      "source": [
        "If you guessed that the output would be \"This is the clock song, I am setting all the clocks wrong\", then you were correct! But there's a few things you should know about Python:\n",
        "\n",
        "1. Anything in the quotes is called a *string literal* because, literally, it is outputting exactly what is in the quotes.\n",
        "2. You can use single quotes or double quotes to output a *string* (though you should be consistent in your programming).\n",
        "3. Things get a little dicey when we start adding in *variables* - but that won't be until later."
      ]
    },
    {
      "cell_type": "markdown",
      "metadata": {
        "id": "ylMCHxds4YLw"
      },
      "source": [
        "### Using double quotes\n",
        "\n",
        "Here are two different lines of code that do exactly the same thing:"
      ]
    },
    {
      "cell_type": "code",
      "execution_count": null,
      "metadata": {
        "id": "vNy0guo94YLx"
      },
      "outputs": [],
      "source": [
        "print('This is the clock song, I am setting all the clocks wrong')\n",
        "print(\"This is the clock song, I am setting all the clocks wrong\")"
      ]
    },
    {
      "cell_type": "markdown",
      "metadata": {
        "id": "QrD_80ST4YLx"
      },
      "source": [
        "There is an advantage of using the double quotes; if you wanted to use a contraction for \"I am\", you would want to use \"I'm\". This is problematic if you are using single quotes as the apostrophe in \"I'm\" would be interpreted as the ending single quote for the string! In the code below, we can see that there are single quotes in the `print` statement but there is an error in the code because of the apostrophe. Your job is to fix this so the code runs. You can run the code, see the error, and then modify the code and run it again. And again. And again."
      ]
    },
    {
      "cell_type": "code",
      "execution_count": null,
      "metadata": {
        "id": "_yXyFcvg4YLx"
      },
      "outputs": [],
      "source": [
        "print('This is the clock song, I'm setting all the clocks wrong')"
      ]
    },
    {
      "cell_type": "markdown",
      "metadata": {
        "id": "xCgEJL5M4YLy"
      },
      "source": [
        "<details>\n",
        "  <summary>\n",
        "    Click here to reveal the solution\n",
        "   \n",
        "  </summary>\n",
        "  <p>\n",
        "    <code>\n",
        "    print(\"This is the clock song, I'm setting all the clocks wrong\")\n",
        "    </code>\n",
        "  </p>\n",
        "</details>\n"
      ]
    },
    {
      "cell_type": "markdown",
      "metadata": {
        "id": "PPMi-0pG4YLy"
      },
      "source": [
        "### Escape characters\n",
        "\n",
        "Now you might ask yourself, \"Self, what if I really like using single quotes - how can I output apostrophes?\". And that's a natural question. Turns out Python has a solution - it's called the *escape character*. Most languages have this; it's an avenue that let's us programmers output characters that otherwise cause issues."
      ]
    },
    {
      "cell_type": "code",
      "execution_count": null,
      "metadata": {
        "id": "UVba7J_44YLy"
      },
      "outputs": [],
      "source": [
        "print('This is the clock song, I\\'m setting all the clocks wrong')\n",
        "print(\"Sharks with \\\"laser beams\\\" on their heads.\")"
      ]
    },
    {
      "cell_type": "markdown",
      "metadata": {
        "id": "R74QoUck4YLy"
      },
      "source": [
        "Austin Powers fans should be releaved to know you can include double quotes in your `print` statements! Here is a list of all escape charcters in Python:\n",
        "\n",
        "```\n",
        "\\n - newline\n",
        "\\t - tab\n",
        "\\r - carriage return\n",
        "\\\\ - backslash\n",
        "\\' - single quote\n",
        "\\\" - double quote\n",
        "```\n",
        "\n",
        "Note that a REAL common mistake is to use the wrong slash:\n",
        "\n",
        "`/'` will definitely not display a single quote/apostrophe, and, if you type it, ***your computer will explode***."
      ]
    },
    {
      "cell_type": "markdown",
      "metadata": {
        "id": "cH1hWo_g4YLz"
      },
      "source": [
        "### Multiple *parameters* in `print` statements\n",
        "\n",
        "Sometimes you will want to output multiple things in the same `print` statement. The following code demonstrates two different ways. Yes, it's true you could use `print('YOU are awesome!')` - that would be the best solution in this case. But there will be times when we have multiple things to output so you should know how to handle it. Notice the way the spacing differs between these two methods:"
      ]
    },
    {
      "cell_type": "code",
      "execution_count": null,
      "metadata": {
        "id": "WLuIa2yf4YLz",
        "outputId": "39a94601-ec2c-4092-fb54-7720571e12cb"
      },
      "outputs": [],
      "source": [
        "print('YOU', 'are', 'awesome!')\n",
        "print('YOU' + 'are' + 'awesome!')"
      ]
    },
    {
      "cell_type": "markdown",
      "metadata": {
        "id": "oAsjbmV04YLz"
      },
      "source": [
        "Here's a more concrete example of why you might want to know how spacing works. I know we haven't looked at *variables* yet (that's coming up in another chapter), but lemme give you a taste of what a *variable* is. A *variable* is a thing in Python that let's you store information. And, unlike variables in math class, the value can change. So in the example below, we'll have a variable called `age` and we will give it a value of `44`.\n",
        "\n",
        "Use your power of prediction to guess what happens when you execute the following code:"
      ]
    },
    {
      "cell_type": "code",
      "execution_count": null,
      "metadata": {
        "id": "zwHUTYnc4YL0"
      },
      "outputs": [],
      "source": [
        "age = 44\n",
        "print(age)"
      ]
    },
    {
      "cell_type": "markdown",
      "metadata": {
        "id": "0945hcbA4YL0"
      },
      "source": [
        "If you guessed that the output would be `44`, you are correct. Now let's add more to the output. This is why you need to know the difference between `+` and `,` in your `print` statements:"
      ]
    },
    {
      "cell_type": "code",
      "execution_count": null,
      "metadata": {
        "id": "GaxnzZ_B4YL0"
      },
      "outputs": [],
      "source": [
        "print('You\\'re ', age)"
      ]
    },
    {
      "cell_type": "markdown",
      "metadata": {
        "id": "xbCv3KKX4YL0"
      },
      "source": [
        "Now try to change the comma to a `+` sign and see what happens. Spoiler alert: it ain't good. We'll get to **why** this is the case in another chapter; for right now, just plan on using commas. Of course, this begs the question, \"How do I **not** have a space between a string (text) and a variable that is a number?\""
      ]
    },
    {
      "cell_type": "code",
      "execution_count": null,
      "metadata": {
        "id": "5BMGQhm24YL0"
      },
      "outputs": [],
      "source": [
        "version = 1.210005\n",
        "print('Current version is v', version)"
      ]
    },
    {
      "cell_type": "markdown",
      "metadata": {
        "id": "WR5k-kv54YL0"
      },
      "source": [
        "<details>\n",
        "  <summary>\n",
        "    You don't need to know the answer to this quite yet, but if you are curious, click here to reveal the code.\n",
        "   \n",
        "  </summary>\n",
        "  <p>\n",
        "    <code>version = 1.210005<br />\n",
        "    print('Current version is v%f' %version )\n",
        "    </code>\n",
        "    <br />\n",
        "    <br />\n",
        "    Yeah, I know this looks confusing. We'll go into this a bit more when we examine variables. But if it helps contextualize what is happening, the <code>f</code> stands for <code>float</code>, which is computer nerdspeak for \"decimal\". The actual output of running this code is:\n",
        "    <br />\n",
        "    <br />\n",
        "    <code>Current version is v1.210005</code>\n",
        "  </p>\n",
        "</details>\n"
      ]
    },
    {
      "cell_type": "markdown",
      "metadata": {
        "id": "t0lrsP_H4YL0"
      },
      "source": [
        "# Comments\n",
        "\n",
        "The last thing you need to know about before we get started with some simple programs is the notion of *comments*. A *comment* is code that is not read by the computer. Using comments is handy for a few different reasons:\n",
        "\n",
        "1. **Creating an outline.** Whenever I sit down to write software, I *always* use comments and write down each step of the program. This is like an outline. Then, once I plan it out, I start adding actual code.\n",
        "\n",
        "2. **Add information right in your code**. When people read your code (or when you look at your code a week or a year from now) it is easy to get a feel for what the code does.\n",
        "\n",
        "3. **Attribution**. You should always put your own name, date, and description of the software in your code. I recommend doing that right at the top of the code. If you use code from somewhere else or you get help from, say, ChatGPT, you need to include that in comments in your code.\n",
        "\n",
        "4. ***Debugging***! If your code doesn't work as expected, but you don't know the exact line of code that is causing the error, you can \"comment out\" some lines of code - they won't run when the program runs. If you don't experience any issues, you can \"uncomment\" some of the lines that weren't run and see if those lines give you an error. If they do, then you know what is causing the problem.\n",
        "\n",
        "5. **\"TODO\" lists**. When I write code, I often use comments to make a list of things I want to do the program but haven't gotten around to yet.\n",
        "\n",
        "Here is some code with comments in it. Note that you just need to use `#` to add a comment. You can comment out a full line or part of a line of code. Should you try to execute this code, a textbox will appear asking you to input your name:"
      ]
    },
    {
      "cell_type": "code",
      "execution_count": null,
      "metadata": {
        "id": "2khhQDtW4YL0"
      },
      "outputs": [],
      "source": [
        "# AUTHOR - Dave Ghidiu\n",
        "# STARTING DATE - September 5, 2023\n",
        "# DESCRIPTION - This code will ask the user for their name and then output \"Hello, <whatever they type in>\"\n",
        "\n",
        "# Ask the user for their name and store it in the variable called `name`\n",
        "name = input('Enter your name:')\n",
        "\n",
        "# Output the string `Hello,` followed by whatever name they typed in\n",
        "print('Hello,', name)"
      ]
    },
    {
      "cell_type": "markdown",
      "metadata": {
        "id": "7kTeedtF4YL0"
      },
      "source": [
        "Oftentimes you'll see me add comments to the end of a line of code; that just gives more context to the code. I like to use it to show what the output on the screen will be if you run the code."
      ]
    },
    {
      "cell_type": "code",
      "execution_count": null,
      "metadata": {
        "id": "NnxDmngi4YL0"
      },
      "outputs": [],
      "source": [
        "num_one = 10\n",
        "num_two = 5\n",
        "print(10 * 2) # 20"
      ]
    },
    {
      "cell_type": "markdown",
      "metadata": {
        "id": "2hdCBoSV4YL0"
      },
      "source": [
        "## Now go program!\n",
        "\n",
        "The labs in this chapter are very lightweight; you'll be submitting a few different programs **that only require you to use `print` statements**. No need to get fancy with loops and stuff (that will come later). If you have any problems, let me know!"
      ]
    }
  ],
  "metadata": {
    "colab": {
      "provenance": []
    },
    "kernelspec": {
      "display_name": "Python 3 (ipykernel)",
      "name": "python3"
    },
    "language_info": {
      "codemirror_mode": {
        "name": "ipython",
        "version": 3
      },
      "file_extension": ".py",
      "mimetype": "text/x-python",
      "name": "python",
      "nbconvert_exporter": "python",
      "pygments_lexer": "ipython3",
      "version": "3.10.12"
    },
    "orig_nbformat": 2
  },
  "nbformat": 4,
  "nbformat_minor": 0
}
