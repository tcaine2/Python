{
 "cells": [
  {
   "cell_type": "markdown",
   "metadata": {
    "id": "fShEJ6y4PWz4"
   },
   "source": [
    "<center><img src=\"https://docs.google.com/drawings/d/e/2PACX-1vT4S4QVOsu1GtRuJmYftcySJMZGo_4woIB8S2p52sttdzdnRL3AEb-Z7A7dyBzLDQL1n9DYeqvmoV6r/pub?w=816&amp;h=144\"></center>\n",
    "\n",
    "Variables && Input"
   ]
  },
  {
   "cell_type": "markdown",
   "metadata": {
    "id": "WA-qIoq6PWz8"
   },
   "source": [
    "In the first chapter we looked at setting up your environment, using Python to create some basic output, and submitting your work using CodeGrade. In this chapter we will be exploring some of the basic uses of variables, input, and functions.\n",
    "\n",
    "## VARIABLES\n",
    "\n",
    "This is a really confusing term; in Math we think of a *variable* as something that holds a value (and there is usually one correct answer). Consider the equation:\n",
    "\n",
    "`3x + 5 = 11`\n",
    "\n",
    "In math, we say that `x` is a *variable* and in this case `x = 2`.\n",
    "\n",
    "But in computer science, the term variable is used to represent a place to store a value in the computer program - **and that value can change!** You don’t really need to know exactly where in the computer the value is stored - you just need to know that the value is stored so it can be recalled later. And it is likely that the value would change at different times in the program! So you have to reframe the idea of a *variable* from a *certain value* to *pretty much any value, and that value can change*.\n",
    "\n",
    "One of the ways we use *variables* in Python is to store information we get from the person who is running the program. Remember the old school Pokemon game on Gameboy? You would have to enter your name when you start and throughout the game the text on the screen would refer to whatever you typed in. So if you typed in `JOHNCENA` (back then you only had eight characters!), throughout the whole game you would be referred to as JOHNCENA. That's a variable! Probably the name of the variable was something like `user_name` or `player_name` or `player`.\n",
    "\n",
    "<center>\n",
    "<img src=\"https://docs.google.com/drawings/d/e/2PACX-1vSQLkLGwWRC1O9CVmZC3N8XwGPgDduUzEUsoKPFRXyWuNPkbQM93VPztvUbmHFgUsTHUt4equuSxC1p/pub?w=395&amp;h=339\" alt=\"A screen from Pokemon where the player enters their name. In this case, the name entered is JOHNCENA.\" title=\"A screen from Pokemon where the player enters their name. In this case, the name entered is JOHNCENA.\">\n",
    "</center>\n",
    "\n",
    "Here is a trivial example where we will *assign* a value to the variable named `age`, print it, then we will change the state of that value and print it again. Run the program! After you run the program, try changing the value of `age` and running it again."
   ]
  },
  {
   "cell_type": "code",
   "execution_count": null,
   "metadata": {
    "colab": {
     "base_uri": "https://localhost:8080/"
    },
    "executionInfo": {
     "elapsed": 8,
     "status": "ok",
     "timestamp": 1718225921088,
     "user": {
      "displayName": "Dave Ghidiu",
      "userId": "14638431489295038830"
     },
     "user_tz": 240
    },
    "id": "gdURZqgoPWz9",
    "outputId": "f734a99e-e119-40a7-9c50-99df77fb73a9"
   },
   "outputs": [
    {
     "name": "stdout",
     "output_type": "stream",
     "text": [
      "45\n",
      "33\n"
     ]
    }
   ],
   "source": [
    "# A simple program to demonstrate that the value of a variable can change!\n",
    "\n",
    "# Establish a variable called `age` and is assigned a value of 45\n",
    "age = 45\n",
    "\n",
    "# Print the value of the variable `age`\n",
    "print(age)\n",
    "\n",
    "# Change the value of `age` to be 33\n",
    "age = 33\n",
    "\n",
    "# Print the value of the variable `num`\n",
    "print(age)"
   ]
  },
  {
   "cell_type": "markdown",
   "metadata": {
    "id": "GwZzzc0dPWz-"
   },
   "source": [
    "### Data Types\n",
    "\n",
    "In Python variables can hold different types of information. This is actually really important for computers - you need to be very clear what type of data you are dealing with. There are three main types of data we will be using for right now:\n",
    "\n",
    "\n",
    "<blockquote>\n",
    "\n",
    "**String** - Represented by `str`, a *string* is any combinations of letters, numbers, and special characters in single quotes or double quotes. Examples include `'dave'`, `'p@$$w0rd'`, `'Remember, remember, the 5th of November!'`, and `'55'`. I know that last one is confusing - like, why would a number be stored as a string? Hold that question for now!\n",
    "\n",
    "**Float** - A `float` is a *floating-point number*, which sounds confusing but really it's just a decimal like `3.14` and `7.5`.\n",
    "\n",
    "**Integer** - An `int` is a whole number (it can be positive or negative!). Examples include `-40`, `23`, and `1078`.\n",
    "\n",
    "</blockquote>"
   ]
  },
  {
   "cell_type": "markdown",
   "metadata": {
    "id": "BGhfsarUPWz_"
   },
   "source": [
    "There very well might be times when you don't know what type of data a variable holds. I mean, you usually kind of have an idea. But that's ok - you can always query the type of the variable using the function called `type()`. All you do is stick a variable name in the parentheses. Float over the code below you'll see a \"play\" button (a triangle) to the left. Hit it and the code will execute!"
   ]
  },
  {
   "cell_type": "code",
   "execution_count": null,
   "metadata": {
    "id": "BhszRO7fPWz_"
   },
   "outputs": [],
   "source": [
    "password = 'p@$$w0rd'\n",
    "print(type(password))"
   ]
  },
  {
   "cell_type": "markdown",
   "metadata": {
    "id": "1FiQ_NckPWz_"
   },
   "source": [
    "In this case, the type of data stored in `password` was a `string`. The dead giveaway was that there are quotes around the value. Recall that double quotes are just as effective:"
   ]
  },
  {
   "cell_type": "code",
   "execution_count": null,
   "metadata": {
    "id": "stvr5neWPW0A"
   },
   "outputs": [],
   "source": [
    "password = \"p@$$w0rd\"\n",
    "username = 'daveghidiu'\n",
    "\n",
    "print(type(password))\n",
    "print(type(username))"
   ]
  },
  {
   "cell_type": "markdown",
   "metadata": {
    "id": "KAZ5-Dh9PW0A"
   },
   "source": [
    "In the above example, change `password = \"pa@$$w0rd\"` to read `password = 123456` and then run the code. What happens? Why?\n",
    "\n",
    "<details>\n",
    "  <summary>Click to reveal the answer</summary>\n",
    "  <br />The value is now an <code>int</code>. This is because if you don't have quotes around the value when you are assigning the value to a variable, then Python does it's best to figure out the variable. In this case, <code>123456</code> is a whole number - a big number, but a number - so Python has decided that it is an `int`. Note that if you put quotes around it:<br />\n",
    "  <br />\n",
    "  <code>password = \"123456\"</code><br />\n",
    "  <br />\n",
    "  then the variable type will be a <code>string</code>!\n",
    "</details>\n"
   ]
  },
  {
   "cell_type": "markdown",
   "metadata": {
    "id": "8qbi_5FjPW0A"
   },
   "source": [
    "Now let's look at numbers - mainly `int` and `float`. In some languages, we have to explicitly say what type of data the variable will hold. But Python is pretty slick and can kind of figure it out. Make a prediction of what will happen and then hit the play button to execute the code:"
   ]
  },
  {
   "cell_type": "code",
   "execution_count": null,
   "metadata": {
    "id": "jUZyOD_RPW0A"
   },
   "outputs": [],
   "source": [
    "age = 45\n",
    "print(type(age))\n",
    "print(age)\n",
    "\n",
    "print()\n",
    "\n",
    "gpa = 3.1\n",
    "print(type(gpa))\n",
    "print(gpa)"
   ]
  },
  {
   "cell_type": "markdown",
   "metadata": {
    "id": "hGnF-5M1PW0A"
   },
   "source": [
    "---\n",
    "\n",
    "#### ✅ Check for understanding\n",
    "\n",
    "In the examples below, decide the data type. You won't believe the last one!\n",
    "\n",
    "<details>\n",
    "  <summary><code>5.0</code></summary>\n",
    "  This is a `float` since it is a decimal - even if the decimal is irrelevant.\n",
    "</details>\n",
    "\n",
    "<br />\n",
    "\n",
    "<details>\n",
    "  <summary><code>16</code></summary>\n",
    "  This is an `int` since the value is a whole number (integer).\n",
    "</details>\n",
    "\n",
    "<br />\n",
    "\n",
    "<details>\n",
    "  <summary><code>-273.15</code></summary>\n",
    "  This is a `float` since it is a decimal - even if the value is negative.\n",
    "</details>\n",
    "\n",
    "<br />\n",
    "\n",
    "<details>\n",
    "  <summary><code>'This is the clock song/I'm setting all the clocks wrong'</code></summary>\n",
    "  This is a `str` since it is a bunch of letters, numbers, and special characters. **NOTE:** If there are quotes around a value, it's **always** a string!\n",
    "</details>\n",
    "\n",
    "<br />\n",
    "\n",
    "<details>\n",
    "  <summary><code>0</code></summary>\n",
    "  This is an `int` since the value is a whole number (integer).\n",
    "</details>\n",
    "\n",
    "<br />\n",
    "\n",
    "<details>\n",
    "  <summary><code>-40</code></summary>\n",
    "  This is an `int` since the value is a whole number (integer) - even if it is negative.\n",
    "</details>\n",
    "\n",
    "<br />\n",
    "\n",
    "<details>\n",
    "  <summary><code>'33'</code></summary>\n",
    "  This is a `str` since the value is in quotes! Bonkers, right? Like, even though it is just numbers and the value might **look** like an `int`, it is still a string!\n",
    "</details>\n",
    "\n",
    "---"
   ]
  },
  {
   "cell_type": "markdown",
   "metadata": {
    "id": "9GudPccePW0B"
   },
   "source": [
    "One more thing! The data type that one variable stores can change (this is also a departure from some other languages). Check out the example below where we have one variable called `temp_data`. It starts off as an `int` but then the data it holds is a `str` and then we replace it with `float`. That's bonkers!"
   ]
  },
  {
   "cell_type": "code",
   "execution_count": null,
   "metadata": {
    "id": "mrnlepWnPW0B"
   },
   "outputs": [],
   "source": [
    "temp_data = 100\n",
    "print(type(temp_data))\n",
    "print(temp_data)\n",
    "\n",
    "print()\n",
    "\n",
    "temp_data = 'abc'\n",
    "print(type(temp_data))\n",
    "print(temp_data)\n",
    "\n",
    "print()\n",
    "\n",
    "temp_data = -273.15\n",
    "print(type(temp_data))\n",
    "print(temp_data)"
   ]
  },
  {
   "cell_type": "markdown",
   "metadata": {
    "id": "qIsKj6VEPW0B"
   },
   "source": [
    "### Naming Variables\n",
    "\n",
    "Believe it or not, the name you choose for your variable is super important. It should describe the purpose of the variable. For instance, if we are writing a program to ask the user for their name, then we should call the variable `name`. If we want to know their age, we would call that variable `age`. If we wanted their GPA, we should probably use `gpa`.\n",
    "\n",
    "I know this sounds easy, but here's where a lot of new programmers go wrong. Consider this fragment of code:"
   ]
  },
  {
   "cell_type": "code",
   "execution_count": null,
   "metadata": {
    "id": "LTM2EB5RPW0B"
   },
   "outputs": [],
   "source": [
    "x = 10\n",
    "y = 6\n",
    "z = x * y / 2\n",
    "\n",
    "print(z)"
   ]
  },
  {
   "cell_type": "markdown",
   "metadata": {
    "id": "ewBQP6aVPW0B"
   },
   "source": [
    "Well, in this example it isn't immediately clear what the significance of the variables are - nor is it immediately clear what the program even does.\n",
    "\n",
    "\n",
    "Now let's look at it with variable names that are descriptive:"
   ]
  },
  {
   "cell_type": "code",
   "execution_count": null,
   "metadata": {
    "id": "W_yPsEUXPW0B"
   },
   "outputs": [],
   "source": [
    "base = 10\n",
    "height = 6\n",
    "area = base * height / 2\n",
    "\n",
    "print(area)"
   ]
  },
  {
   "cell_type": "markdown",
   "metadata": {
    "id": "ztl2ChTIPW0B"
   },
   "source": [
    "Whoa! 🤯\n",
    "\n",
    "See what a difference names can make? It is immediately clear what this program does *and the purpose of each variable*. We can infer that this program computes the area of a triangle and we know which variable is the height, the base, and the area - just by good variable names!\n",
    "\n",
    "I'd like to share a cautionary tale about naming variables. You can click below to read it. It has no bearing on what you are learning, so feel free to skip it. But if you want a good chuckle, read on!\n",
    "\n",
    "<br />\n",
    "\n",
    "<details>\n",
    "  <summary>Click to read about Dan Wong</summary>\n",
    "  <br />Early on in my teaching career, I worked with a student name Dan Wong. He was learning about naming variables and was super excited - he was a passionate learner. At any rate, we were writing a program that had maybe 10 different variables in it. When he showed me his code, instead of having descriptive names for his variables, he named them all after himself (<code>dan_wong_1</code>, <code>dan_wong_2</code>, <code>dan_wong_3</code>, all the way up to <code>dan_wong_10</code>). Obviously this was no good - I was getting a headache trying to track what each of the variables were doing. So I told him that reading his code was too confusing and that he had to fix it. He came back the next day and renamed all his variables (that's good!). But instead of naming them after their purpose, he named them <code>dw1</code>, <code>dw2</code>, ... <code>dw10</code>. That wasn't much better - I still couldn't easily understand what each variable was for. On his third attempt he changed his variables to reflect the name of the data they were storing. We got a good chuckle 🙂.\n",
    "  \n",
    "  "
   ]
  },
  {
   "cell_type": "markdown",
   "metadata": {
    "id": "24DccyE4PW0B"
   },
   "source": [
    "In addition to the art of naming variables, there is also a *convention* for naming variables. Seriously - there is an authoratative style guide for Python. [It is called PEP 8 and you can see it here](https://peps.python.org/pep-0008). But the main rule is that your variable names should:\n",
    "* Be lowercase\n",
    "* Be descriptive\n",
    "* Include an underscore when jamming words together\n",
    "\n",
    "So the following are great names:\n",
    "* `user_name`\n",
    "* `failed_login_attempts`\n",
    "* `software_version`\n",
    "\n",
    "If you have experience in other languages, you might be conditioned to use variable names like `userName` or `failedLoginAttempts`. Don't succomb to your conditioned state! Fight the urge! Start using underscores - it's actually quite fun."
   ]
  },
  {
   "cell_type": "markdown",
   "metadata": {
    "id": "WyvryxKWPW0B"
   },
   "source": [
    "---\n",
    "\n",
    "#### ✅ Check for understanding\n",
    "\n",
    "In the examples below, predict the data type and variable name that might be used given a description of the intended use of the variables.\n",
    "\n",
    "<details>\n",
    "  <summary>A variable that will store the height (in inches) of a person</summary>\n",
    "  <br />\n",
    "  <code>height<br /># This is an int</code>\n",
    "</details>\n",
    "\n",
    "<br />\n",
    "<br />\n",
    "\n",
    "<details>\n",
    "  <summary>A variable that will store a user name of someone logging into a system</summary>\n",
    "  <br />\n",
    "  <code>username<br /># This is a string</code><br />\n",
    "  <br />\n",
    "  <code>user_name<br />\n",
    "  #This is a string</code>\n",
    "  <br />\n",
    "  <br />\n",
    "  Note that <code>user</code> is not specific - is it the user's name? Their ID number? A piece of data that tracks numerous pieces of information about a user?\n",
    "  <br />\n",
    "  <br />\n",
    "  Note that <code>uname</code> is better than <code>user</code>, but it does not adequately describe the purpose of the variable.\n",
    "\n",
    "</details>\n",
    "\n",
    "<br />\n",
    "<br />\n",
    "\n",
    "<details>\n",
    "  <summary>A variable that will store the last time a user logged into a system</summary>\n",
    "  <br />\n",
    "  <code>last_login<br />\n",
    "  # This is a string, though it would be cool if there was a way to store dates as a data type in Python...</code>\n",
    "</details>\n",
    "\n",
    "<br />\n",
    "<br />\n",
    "\n",
    "<details>\n",
    "  <summary>A variable that will store the \"uptime\" percentage of a system (such as 99.999%)</summary>\n",
    "  <br />\n",
    "  <code>uptime<br />\n",
    "  # This is a float</code>\n",
    "  <br />\n",
    "  <br />\n",
    "  <code>percent_of_time_running<br />\n",
    "  # This is a float</code>\n",
    "</details>\n",
    "\n",
    "<br />\n",
    "<br />\n",
    "\n",
    "<details>\n",
    "  <summary>A variable that will store a password hash (a bunch of numbers and letters)</summary>\n",
    "  <br />\n",
    "  <code>hash<br />\n",
    "  # This is a string</code>\n",
    "  <br /><br />\n",
    "  <code>password_hash<br />\n",
    "  # This is a string</code>\n",
    "  <br /><br />\n",
    "  <code>hashed_password<br />\n",
    "  # This is a string</code>\n",
    "</details>\n",
    "\n",
    "<br />\n",
    "\n",
    "\n",
    "\n",
    "\n",
    "---"
   ]
  },
  {
   "cell_type": "markdown",
   "metadata": {
    "id": "5SQqACf5PW0C"
   },
   "source": [
    "## USER INPUT\n",
    "\n",
    "Getting input from the user is way better than *hardcoding* the values of a variable in our code. And it's not hard, either. You just have to use the `input()` function. Here's the thing, though - whenever you use `input()` the data that is collected from the user is **always** going to be stored as a string. But that's OK - you can always modify the value. Check it out (note that when you run this program a text box will appear and that's where you type your input!):"
   ]
  },
  {
   "cell_type": "code",
   "execution_count": null,
   "metadata": {
    "id": "Wj93HVIPPW0D"
   },
   "outputs": [],
   "source": [
    "name = input('Enter your name:')\n",
    "age = input('Enter your age:')\n",
    "\n",
    "print(type(name))\n",
    "print(type(age))"
   ]
  },
  {
   "cell_type": "markdown",
   "metadata": {
    "id": "DhYDE33GPW0D"
   },
   "source": [
    "So let's change that so that `age` is a number:"
   ]
  },
  {
   "cell_type": "code",
   "execution_count": null,
   "metadata": {
    "id": "W3AFx2vwPW0D"
   },
   "outputs": [],
   "source": [
    "name = input('Enter your name:')\n",
    "age = int(input('Enter your age:'))\n",
    "\n",
    "print(type(name))\n",
    "print(type(age))"
   ]
  },
  {
   "cell_type": "markdown",
   "metadata": {
    "id": "y1lZ_ZuTPW0D"
   },
   "source": [
    "In the code above, we were able to *cast* the type of the input to something other than a string. In computer nerdom, when we change the data type from one thing to another, we say it has been *cast*. You have to be a little careful when casting because you can run into trouble. Here are some examples of safe casting (places where changing the type from one type to another is not catastrophic):"
   ]
  },
  {
   "cell_type": "code",
   "execution_count": null,
   "metadata": {
    "id": "CJtnOPyBPW0D"
   },
   "outputs": [],
   "source": [
    "number_one = int(3.14)\n",
    "# The value of `number_one` is 3\n",
    "\n",
    "number_two = int(5.999)\n",
    "# The value of `number_two` is 5\n",
    "\n",
    "number_three = int('6')\n",
    "# The value of `number_three` is 6\n",
    "\n",
    "print(number_one)\n",
    "print(type(number_one))\n",
    "\n",
    "print()\n",
    "\n",
    "print(number_two)\n",
    "print(type(number_two))\n",
    "\n",
    "print()\n",
    "\n",
    "print(number_three)\n",
    "print(type(number_three))\n"
   ]
  },
  {
   "cell_type": "markdown",
   "metadata": {
    "id": "asUa_4rPPW0D"
   },
   "source": [
    "In these examples, we were able to cast a decimal into an integer. Interestingly, when we cast `5.999` as an `int`, the value was 5, not 6. That's because casting results in *truncating* - that is, just keeping the whole number and ignoring the decimal. *Truncating* does not round. It just chops off the decimal.\n",
    "\n",
    "Also, casting from a string to an integer is a dangerous proposition:\n",
    "\n",
    "```python\n",
    "number_four = int('6')\n",
    "# This will work!\n",
    "\n",
    "number_five = int('6.1')\n",
    "# This will not work\n",
    "```\n",
    "\n",
    "I tell you this because if you think about the implications of taking input from a user, which is **always a string** and try using it as an integer, you can get into a real sticky wicket! In the code below, the program is asking you for a number. Run the program and type in an integer. Then, run it again and type in a decimal."
   ]
  },
  {
   "cell_type": "code",
   "execution_count": null,
   "metadata": {
    "id": "3_6aqgX_PW0D"
   },
   "outputs": [],
   "source": [
    "user_input = int(input('Enter a number:'))"
   ]
  },
  {
   "cell_type": "markdown",
   "metadata": {
    "id": "UG0xCV6WPW0D"
   },
   "source": [
    "As a software engineer, you should adopt this universal truth:\n",
    "\n",
    "> The user will always manage to screw up the program.\n",
    "\n",
    "So to mitigate the problem, there are a few options:\n",
    "\n",
    "1. For the scope of this class, assume the user is going to type in what they should (for instance, if your program is supposed to take in an integer, you can use `int` because the test data will deliver an `int`).\n",
    "\n",
    "2. In the real world, you could take in the input as a `float` and then use some fancy math (to be examined later) and turn it into an `int`.\n",
    "\n",
    "3. You can handle the error using fancy footwork.\n",
    "\n",
    "We will be using option 1 in this class. It's the easiest way to handle this, but the least secure in the real world."
   ]
  },
  {
   "cell_type": "markdown",
   "metadata": {
    "id": "HWhtU_ZoPW0D"
   },
   "source": [
    "---\n",
    "\n",
    "#### ✅ Check for understanding\n",
    "\n",
    "In the examples below, what code can you use to obtain the proper information from the user?\n",
    "\n",
    "<details>\n",
    "  <summary>Store the age of the user</summary>\n",
    "  <br />\n",
    "  <code>age = int(input('Enter your age:'))</code>\n",
    "</details>\n",
    "\n",
    "<br />\n",
    "<br />\n",
    "\n",
    "<details>\n",
    "  <summary>Get the GPA from the user</summary>\n",
    "  <br />\n",
    "  <code>gpa = float(input('Enter your GPA:'))</code>\n",
    "</details>\n",
    "\n",
    "<br />\n",
    "<br />\n",
    "\n",
    "<details>\n",
    "  <summary>Grab the middle name of the user</summary>\n",
    "  <br />\n",
    "  <code>middle_name = input('Enter your middle name:')</code>\n",
    "</details>\n",
    "\n",
    "<br />\n",
    "<br />\n",
    "\n",
    "---"
   ]
  },
  {
   "cell_type": "markdown",
   "metadata": {
    "id": "vAf0JH4DPW0E"
   },
   "source": [
    "## FUNCTIONS\n",
    "\n",
    "One last thing - and this is not really related to variables or input, but it's important to know. And that thing is... *functions*! A *function* is a little mini-program. So far we've been just adding code to a file and the computer will execute every single line. But most of the time, that's not what we really want.\n",
    "\n",
    "We can write mini-programs, called *functions* that run only when they are called. Check out the following code where we will have two functions called `display_weather()` and `display_calendar_events()`. A few things to note about each function:\n",
    "\n",
    "1. We have to *define* the function with the `def` keyword.\n",
    "\n",
    "2. Every function name has to have parentheses (more on this later) and a colon.\n",
    "\n",
    "3. We have to indent all the lines of code that belong to the function. Indenting is the only way Python knows which lines of code belong to which function."
   ]
  },
  {
   "cell_type": "code",
   "execution_count": null,
   "metadata": {
    "id": "NQY7-gyZPW0E"
   },
   "outputs": [],
   "source": [
    "def display_weather():\n",
    "    print('The weather for the day is:')\n",
    "    print()\n",
    "    print('Cloudy with a chance of meatballs')\n",
    "    print('Temperature: -40 degrees')\n",
    "\n",
    "def display_calendar_events():\n",
    "    print('Get the Ark of the Covenant')\n",
    "    print('Get the Sankara Stones')\n",
    "    print('Get the Holy Grail')\n",
    "    print('Forget the Crystal Skulls')\n",
    "    print('Get the Dial of Destiny')"
   ]
  },
  {
   "cell_type": "markdown",
   "metadata": {
    "id": "fD55jTxpPW0E"
   },
   "source": [
    "Try running that program! NOTHING HAPPENS!\n",
    "\n",
    "That's because we wrote some mini-programs, but we never *called* the functions (you might say they were not *invoked*). Think of it as two mini-programs that are ready to be used but are never called upon.\n",
    "\n",
    "You can invoke them by explicitly calling them:"
   ]
  },
  {
   "cell_type": "code",
   "execution_count": null,
   "metadata": {
    "id": "VTuHiMNDPW0E"
   },
   "outputs": [],
   "source": [
    "def display_weather():\n",
    "    print()\n",
    "    print('Cloudy with a chance of meatballs')\n",
    "    print('Temperature: -40 degrees')\n",
    "\n",
    "def display_calendar_events():\n",
    "    print()\n",
    "    print('Get the Ark of the Covenant')\n",
    "    print('Get the Sankara Stones')\n",
    "    print('Get the Holy Grail')\n",
    "    print('Forget the Crystal Skulls')\n",
    "    print('Get the Dial of Destiny')\n",
    "\n",
    "print('----------------------------------')\n",
    "print('Let\\'s look at your daily schedule!')\n",
    "print('----------------------------------')\n",
    "print()\n",
    "print('The weather for the day is:')\n",
    "display_weather()\n",
    "print()\n",
    "print('And your tasks for the day are:')\n",
    "display_calendar_events()"
   ]
  },
  {
   "cell_type": "markdown",
   "metadata": {
    "id": "4xEWo8t_PW0E"
   },
   "source": [
    "Technically, we can call either of those two functions (mini-programs) as many times as we'd like:"
   ]
  },
  {
   "cell_type": "code",
   "execution_count": null,
   "metadata": {
    "id": "JDH7WCSPPW0E"
   },
   "outputs": [],
   "source": [
    "display_weather()\n",
    "display_weather()\n",
    "display_weather()"
   ]
  }
 ],
 "metadata": {
  "colab": {
   "provenance": []
  },
  "kernelspec": {
   "display_name": "Python 3 (ipykernel)",
   "name": "python3"
  },
  "language_info": {
   "codemirror_mode": {
    "name": "ipython",
    "version": 3
   },
   "file_extension": ".py",
   "mimetype": "text/x-python",
   "name": "python",
   "nbconvert_exporter": "python",
   "pygments_lexer": "ipython3",
   "version": "3.10.13"
  },
  "orig_nbformat": 2
 },
 "nbformat": 4,
 "nbformat_minor": 0
}
