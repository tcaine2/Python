{
 "metadata": {
  "language_info": {
   "codemirror_mode": {
    "name": "ipython",
    "version": 3
   },
   "file_extension": ".py",
   "mimetype": "text/x-python",
   "name": "python",
   "nbconvert_exporter": "python",
   "pygments_lexer": "ipython3",
   "version": "3.9.2-final"
  },
  "orig_nbformat": 2,
  "kernelspec": {
   "name": "python3",
   "display_name": "Python 3 (ipykernel)"
  }
 },
 "nbformat": 4,
 "nbformat_minor": 2,
 "cells": [
  {
   "source": [
    "<center><img src=\"https://docs.google.com/drawings/d/e/2PACX-1vT4S4QVOsu1GtRuJmYftcySJMZGo_4woIB8S2p52sttdzdnRL3AEb-Z7A7dyBzLDQL1n9DYeqvmoV6r/pub?w=816&amp;h=144\"></center>\n",
    "\n",
    "# Chapter 5: Conditionals\n",
    "\n",
    "*Conditionals* are the fancy word for `if` statements. They translate pretty well to spoken language because conditionals are a construct we use all the time. \n",
    "\n",
    "* If it is raining, I will carry an umbrella.\n",
    "\n",
    "* If I am exceeding the speed limit, I am eligible for a ticket.\n",
    "\n",
    "* If I program in Python, I'm super cool and my friends are jealous.\n",
    "\n",
    "Note that I did take a little care not to use the *if-then* convention. In order to shoehorn conditionals into Python, the difference is small but important. Imagine this scenario:\n",
    "\n",
    "> I leave the house through the front door every day. On some days, if the weather report calls for rain, then I'll grab my umbrella on the way out. In either case (rain or shine) I'm still leaving the house through the front door. \n",
    "\n",
    "In most computer programming languages, `if` statements are more like that. A behavior will always happen (I leave through the door). But ***IF*** a condition happens, I take a small detour. **But I still leave through that door!**\n",
    "\n",
    "Here's another example. The Northville Placid Trail is a hiking trail that connects the towns of Northville, NY to Lake Placid, NY. If you were to walk the entire trail, you'd spend a few days hiking around 140 miles. But ***IF*** you were feeling especially ambitious, you could tack on an extra 22 miles doing the French Louis Trail. It's a small loop that starts and ends at the same spot on the Northville Placid Trail. In either case, you're still going from Northville to Placid; in one case you are adding on a little side quest.\n",
    "\n",
    "In both cases you are starting at the one point and ending at another. You might just have a bit more to do along the way ***IF*** you are ambitious. \n",
    "\n",
    "<center><img src=\"https://docs.google.com/drawings/d/e/2PACX-1vSzgWbyXkAhorZ_fXKtp45jIMGskeBpNhlZW_CEW31FJXRYtKXKefcDEeghX2KF9EXayGTHfekXhFOb/pub?w=599&amp;h=798\" alt=\"A map depicting a loose approximation of the French Louis Loop on the Northville Placid Trail.\" title=\"A map depicting a loose approximation of the French Louis Loop on the Northville Placid Trail.\" style=\"border-radius:15px; margin:7px; height:500px;\" /></center>\n",
    "\n",
    "## `if` statements\n",
    "\n",
    "I suppose if we had to write code to model the Northville Placid Trail scenario, it might look something like this:\n",
    "\n",
    "```Python\n",
    "\n",
    "    print('Start at Northville, NY')\n",
    "    print('Start walking')\n",
    "\n",
    "    # Declare a variable called `feeling_ambitious` that is either True or False\n",
    "    \n",
    "    feeling_ambitious = False\n",
    "\n",
    "\n",
    "\n",
    "    if feeling_ambitious == True:\n",
    "        print('Add on the French Louis Loop')\n",
    "\n",
    "    print('Arrive at Lake Placid, NY')\n",
    "\n",
    "```\n",
    "\n",
    "Let's look at what code might look like for an `if` statement. Remember - in this case we look at the conditional and determine if it is `True` or `False` (remember Boolean variables from earlier?). We'll worry about `if-else` a bit later. In the examples below, look at the code, run the code, and experiment by predicting the results of using different values:"
   ],
   "cell_type": "markdown",
   "metadata": {}
  },
  {
   "cell_type": "code",
   "execution_count": null,
   "metadata": {},
   "outputs": [],
   "source": [
    "number_one = 10\n",
    "number_two = 20\n",
    "\n",
    "if number_one < number_two:\n",
    "    print('The first number is smaller!')\n",
    "\n",
    "print('GAME OVER MAN!!!!')"
   ]
  },
  {
   "cell_type": "code",
   "execution_count": null,
   "metadata": {},
   "outputs": [],
   "source": [
    "number_three = int(input('Enter a number: '))\n",
    "number_four = int(input('Enter another number: '))\n",
    "\n",
    "if number_three + number_four > 10:\n",
    "    sum = number_three + number_four\n",
    "    print('The sum, ' + str(sum) + ', is greater than 10')\n",
    "\n",
    "print('GAME OVER MAN!!!!')"
   ]
  },
  {
   "cell_type": "code",
   "execution_count": null,
   "metadata": {},
   "outputs": [],
   "source": [
    "username = input('Enter username: ')\n",
    "\n",
    "if (username == 'admin'):\n",
    "    print('ACCESS GRANTED')\n",
    "\n",
    "print('GAME OVER MAN!!!!')"
   ]
  },
  {
   "cell_type": "code",
   "execution_count": null,
   "metadata": {},
   "outputs": [],
   "source": [
    "print('Start at Northville, NY')\n",
    "print('Start walking')\n",
    "\n",
    "# Declare a variable called `feeling_ambitious` that is either True or False\n",
    "feeling_ambitious = False # Change this to True the second time you run this code\n",
    "\n",
    "if feeling_ambitious == True:\n",
    "    print('Add on the French Louis Loop')\n",
    "\n",
    "print('Arrive at Lake Placid, NY')"
   ]
  },
  {
   "source": [
    "Need more? Check out the video below where I run through some examples of `if` statements. In the video you might notice that we started with code similar to the example above with `admin` though we make some sweet tweaks to make the code more robust:\n",
    "\n",
    "<center><iframe width=\"560\" height=\"315\" src=\"https://www.youtube.com/embed/llcfk00lit8?si=TLEHmLEnGJ0GpG0i\" title=\"YouTube video player\" frameborder=\"0\" allow=\"accelerometer; autoplay; clipboard-write; encrypted-media; gyroscope; picture-in-picture; web-share\" allowfullscreen style=\"border-radius:15px !important;\"></iframe></center>"
   ],
   "cell_type": "markdown",
   "metadata": {}
  },
  {
   "source": [
    "## `if else` Statements\n",
    "\n",
    "If you think of `if` statements as \"doing something or doing something with a bonus something\", then `if else` statements are more of a \"either this or that will happen, but **one of them will happen**. \n",
    "\n",
    "In speaking we typically refer to these conditions as IF THEN. As in, \"If you don't eat your peas then you won't get any dessert.\" Looking back at our Northville Placid Trail example, check out the following map. In this case, the French Louis Loop intercepts the main trail twice - it is not a standalone loop.\n",
    "\n",
    "<center><img src=\"https://docs.google.com/drawings/d/e/2PACX-1vT2sIXEJoP7rmqqHvo5jKXMk884ZXokZO6QnKfKyxMylIMdDkISfP45ROxkiNMSw307RGWYZvr4SDpt/pub?w=599&amp;h=798\" alt=\"A map depicting a loose approximation of the French Louis Loop on the Northville Placid Trail.\" title=\"A map depicting a loose approximation of the French Louis Loop on the Northville Placid Trail.\" style=\"border-radius:15px; margin:7px; height:500px;\" /></center>\n",
    "\n",
    "<hr />\n",
    "<font size=\"-2\">AUTHORS NOTE: This map is the accurate one - the French Louis Loop actually looks like this; the first example is an exaggeration designed to accompany the narrative. It's like my mentor Bernie Gardner always says, \"Don't let the truth get in the way of a good story!\"</font>\n",
    "<hr />\n",
    "\n",
    "Now the condition is more like this: *IF* you take the French Louis Loop *THEN * you will not hike the entire Northville Placid Trail.\n",
    "\n",
    "In an `if else` statement, one - and **only one** of the consequences will happen. In this case, either you will hike the entire trail or you will take a detour and hike the French Louis Loop; you cannot do both. It's the same with an `if else` condition in Python. We test a condition, and either one of two things will happen:"
   ],
   "cell_type": "markdown",
   "metadata": {}
  },
  {
   "cell_type": "code",
   "execution_count": null,
   "metadata": {},
   "outputs": [],
   "source": [
    "number_five = 10\n",
    "number_six = 20\n",
    "\n",
    "if number_five > number_six:\n",
    "    print(number_five, 'is larger than', number_six)\n",
    "else:\n",
    "    print(number_five, 'is NOT larger than', number_six)"
   ]
  },
  {
   "cell_type": "code",
   "execution_count": null,
   "metadata": {},
   "outputs": [],
   "source": [
    "number_seven = int(input('Enter a number: '))\n",
    "number_eight = int(input('Enter another number: '))\n",
    "\n",
    "sum = number_seven + number_eight\n",
    "\n",
    "if sum > 10:\n",
    "    print('The sum of your numbers is greater than 10')\n",
    "else:\n",
    "    print('The sum of your numbers is NOT greater than 10')"
   ]
  },
  {
   "cell_type": "code",
   "execution_count": null,
   "metadata": {},
   "outputs": [],
   "source": [
    "username_two = input('USERNAME: ')\n",
    "\n",
    "if username_two == 'admin':\n",
    "    print('ACCESS GRANTED')\n",
    "else:\n",
    "    print('I CANNOT DO THAT, DAVE')"
   ]
  },
  {
   "cell_type": "code",
   "execution_count": null,
   "metadata": {},
   "outputs": [],
   "source": [
    "user_guess = int(input('Guess the number I\\'m thinking of: '))\n",
    "\n",
    "if user_guess == 33:\n",
    "    print('You read my mind!')\n",
    "else:\n",
    "    print('Not quite.')"
   ]
  },
  {
   "source": [
    "So the main takeaway here is that in an `if else` statement, only one of the two cases will ever execute. It is worth noting that the computer **literally** does not run the code that doesn't execute. We can demonstrate this by having one of the two code blocks have a division by zero in it. If the code **did** execute, we'd get an error. Run the following code. When you are done, change the value of `a` to be greater than 20. Then run the program again and watch it crash and burn!"
   ],
   "cell_type": "markdown",
   "metadata": {}
  },
  {
   "cell_type": "code",
   "execution_count": null,
   "metadata": {},
   "outputs": [],
   "source": [
    "a = 10\n",
    "b = 20\n",
    "\n",
    "if a > b:\n",
    "    print(a / 0)\n",
    "else:\n",
    "    print('The value of \\'b\\' is', b)\n",
    "\n",
    "print('GAME OVER MAN!!!!')"
   ]
  },
  {
   "source": [
    "This is an optimization in Python. Why would the computer bother looking at code it certainly won't execute?\n",
    "\n",
    "Want more? Check out this video of me running through more `if else` examples:\n",
    "\n",
    "<center><iframe width=\"560\" height=\"315\" src=\"https://www.youtube.com/embed/xZZ4Ku5gb1Q?si=krXTtM7vemkNzZtC\" title=\"YouTube video player\" frameborder=\"0\" allow=\"accelerometer; autoplay; clipboard-write; encrypted-media; gyroscope; picture-in-picture; web-share\" allowfullscreen style=\"border-radius:15px !important;\"></iframe></center>\n",
    "\n",
    "There is actually one more example I **want** to do, but we need another tool. I'd **like** to have a program where the user guesses a number and I can tell them if it is bigger than the number I'm thinking of, smaller than the number I'm thinking of, or equal to the number I'm thinking of. That is **three** different situations. Our current tool of `if else` does not allow for that.\n",
    "\n",
    "## `if elif else` Statements\n",
    "\n",
    "And now it is time for the `if elif else` framework. `elif` means \"ELSE IF\" and is used to help provide a deeper interrogation of a condition. One of the most popular examples that people can relate to is the notion of grades. For this demonstration, let's assume there is a course where you can earn an A, a B, a C, a D, or an F (there are no pluses or minuses). As humans, we are pretty good at identifying and sorting a small number of things just by looking at them - in fact, we can sorta-kinda do it better than computers on a small scale because computers have to examine the items one by one. \n",
    "\n",
    "So in this example, the schema for grades is:\n",
    "\n",
    "| NUMERICAL<br />GRADE | &nbsp; | LETTER<br />GRADE |\n",
    "| :---                 | :---:  | :----:            |\n",
    "| &nbsp;               | &nbsp; | &nbsp;            |\n",
    "| 90 - 100             | &nbsp; | A                 |\n",
    "| 80 - 89              | &nbsp; | B                 |\n",
    "| 70 - 79              | &nbsp; | C                 |\n",
    "| 65 - 69              | &nbsp; | D                 |\n",
    "| 0 - 64               | &nbsp; | F                 |\n",
    "\n",
    "<br />\n",
    "\n",
    "So if the grade we are talking about is a 78, it is easy for us to file that as a \"C\" - we can look at the table and figure that out. Likewise, if the grade is something ridiculous, like a -45, we understand that it is not a valid grade. But here is the inner monologue of the computer doing the same task:\n",
    "\n",
    "> \"Gee, let's start at the beginning. I'm a computer so I can't look at a table and immediately figure out what the `grade` is when converted to a letter. The `grade` is 78. So let me see... \n",
    "\n",
    "> ***IF*** the `grade` is between 90 and 100, then the letter grade is an `A`.\n",
    "\n",
    "> ***ELSE IF*** `grade` is between 80 and 89, the letter grade is a `B`.\n",
    "\n",
    "> ***ELSE IF*** `grade` is between 70 and 79, the letter grade is a `C`. 🎉🎉🎉 YAY! This is it! `grade` matches to a `C`!!!\n",
    "\n",
    "\n",
    "\n",
    "<hr />\n",
    "<font size=\"-2\">AUTHOR'S NOTE: Technically I just lied to you again a little bit. Humans are no better than computers - we can't really multitask either. But we are pretty dang good at appearing as if we can multitask for small things. For instance, let's say I'm sorting playing cards that are all face up on a table and I'm putting them in either the pile of red cards or the pile of black cards. I can use both hands to pick up individual cards and put them in different piles. And though it may **seem** like both hands are simultaneously sorting cards, really my brain is telling my right hand where to sort the card it is currently holding. Once that command is sent, my brain tells the left hand what to do. But my right hand is still moving based off the last instruction from my brain, so it **appears** as if the hands are independent, but they are actually receiving instructions one at a time.</font>\n",
    "<hr />\n",
    "\n",
    "<br />\n",
    "\n",
    "It is worth noting that you do not need an `else` statement in a block of `if elif`, but it's a good idea. Consider the case when the grade was a -45. Here's the rest of the computer's inner monologue:\n",
    "\n",
    "> ***ELSE IF*** `grade` is between 65 and 69, the letter grade is a `D`.\n",
    "\n",
    "> ***ElSE IF*** `grade` is between 0 and 64, the letter grade is an `F`.\n",
    "\n",
    "Well, if we quit there, then the computer doesn't classify that -45 *at all*. So it's best to have an `else` clause at the end as a catch-all. Something like:\n",
    "\n",
    "> ***ELSE*** the `grade` is invalid.\n",
    "\n",
    "Here's what that looks like in a program. Try running it a few times with different values:"
   ],
   "cell_type": "markdown",
   "metadata": {}
  },
  {
   "cell_type": "code",
   "execution_count": null,
   "metadata": {},
   "outputs": [],
   "source": [
    "grade = int(input('Enter the grade (between 0 and 100): '))\n",
    "\n",
    "if grade >= 90:\n",
    "    print('Your grade is an A')\n",
    "elif grade >= 80:\n",
    "    print('Your grade is a B')\n",
    "elif grade >= 70:\n",
    "    print('Your grade is a C')\n",
    "elif grade >= 65:\n",
    "    print('Your grade is a D')\n",
    "elif grade >= 0:\n",
    "    print('Your grade is an F')\n",
    "else:\n",
    "    print('Invalid grade')"
   ]
  },
  {
   "source": [
    "A few things to note:\n",
    "\n",
    "* Any structure like this will have *only one response*. If you tried 77, then you'd get \"Your grade is a C\". Then that `if elif` block stops running. No need to compare `grade` to 65 or 0 - an answer has already been delivered! The flow of the program will kick out of the `if elif`.\n",
    "\n",
    "* The `else` statement does a good job of catching outliers. In this case, we could have typed in any number greater than 90 (say, 100,000,000) and the program would say, \"Your grade is an A\". But any negative number will be tested against 90, 80, 70, 65, and 0. Failing all those tests, it will go to the `else` statement.\n",
    "\n",
    "* If we had structured this backwards, **it would not work**. Think about it. If the code looked like the code below, almost any number would result in an F!"
   ],
   "cell_type": "markdown",
   "metadata": {}
  },
  {
   "cell_type": "code",
   "execution_count": null,
   "metadata": {},
   "outputs": [],
   "source": [
    "grade = int(input('Enter the grade (between 0 and 100): '))\n",
    "\n",
    "if grade >= 0:\n",
    "    print('Your grade is an F')\n",
    "elif grade >= 65:\n",
    "    print('Your grade is a D')\n",
    "elif grade >= 70:\n",
    "    print('Your grade is a C')\n",
    "elif grade >= 80:\n",
    "    print('Your grade is a B')\n",
    "elif grade >= 90:\n",
    "    print('Your grade is an A')\n",
    "else:\n",
    "    print('Invalid grade')"
   ]
  },
  {
   "source": [
    "<details>\n",
    "<summary>Why does a 95 get translated to an F?</summary>\n",
    "<br />\n",
    "<br />\n",
    "An `if-elif` block can only return one answer. So if we have `grade` equal to a 95, the first test compares 95 to 0. Since 95 > 0, then the program prints \"Your grade is an F\" and kicks out. Remember! Much like The Highlander, THERE CAN BE ONLY ONE. In this case, McCloud is talking about answers. There can be only one answer.\n",
    "<br /><br />\n",
    "This is an example of a *logic error*. The code compiles and runs, but the results are not what you would expect. Logic errors are the worst kind of errors! If the program doesn't run, you can troubleshoot it. But with some logic errors, you might not even notice they exist!\n",
    "<br />\n",
    "</details>\n",
    "\n",
    "<br />\n",
    "\n",
    "So now let's get back to that conondrum we were talking about in the last section (`if else`). Turns out that if you think of a number between 1 and 10 and ask someone to guess it, there are **three** possiblities:\n",
    "\n",
    "1. The number they thought of is less than your number\n",
    "\n",
    "2. The number they thought of is greater than your number\n",
    "\n",
    "3. The number they thought if IS your number 🥳\n",
    "\n",
    "So the code should look more like this:"
   ],
   "cell_type": "markdown",
   "metadata": {}
  },
  {
   "cell_type": "code",
   "execution_count": null,
   "metadata": {},
   "outputs": [],
   "source": [
    "magic_number = 6\n",
    "\n",
    "guess = int(input('Choose a number 1 through 10: '))\n",
    "\n",
    "if guess < magic_number:\n",
    "    print('Too small')\n",
    "elif guess > magic_number:\n",
    "    print('Too big')\n",
    "else:\n",
    "    print('YOU GOT IT!!!')"
   ]
  },
  {
   "source": [
    "That's it! Note that in this example - unlike the example with grades - you could rearrange the conditionals and it would not affect that outcome. There is actually another way to be a bit more specific. If you offer a range of values when you make the conditional, you can ensure that the actual structure of the `if elif else` block doesn't matter because there is no ambiguity. Note that when using the `in range(0, 65)` then `0` is included, but `65` is not. So this really tests to see if `0 <= grade < 65`."
   ],
   "cell_type": "markdown",
   "metadata": {}
  },
  {
   "cell_type": "code",
   "execution_count": null,
   "metadata": {},
   "outputs": [],
   "source": [
    "grade = int(input('Enter the grade (between 0 and 100): '))\n",
    "\n",
    "if grade in range (0, 65):\n",
    "    print('Your grade is an F')\n",
    "elif grade in range (65, 70):\n",
    "    print('Your grade is a D')\n",
    "elif grade in range (70, 80):\n",
    "    print('Your grade is a C')\n",
    "elif grade in range (80, 90):\n",
    "    print('Your grade is a B')\n",
    "elif grade in range (90, 100):\n",
    "    print('Your grade is a A')\n",
    "else: \n",
    "    print('INVALID GRADE')"
   ]
  },
  {
   "source": [
    "By the way, using a range when checking values is not only safer, but now the code will catch **any** grade that is not between 0 and 100 - so if someone enters that 100,000,000, it will be caught by the `else` clause!\n",
    "\n",
    "If you wanna check out the third YouTube video of conditionals, pop some popcorn, dim the lights, and get ready to finish the trilogy:\n",
    "\n",
    "<center><iframe width=\"560\" height=\"315\" src=\"https://www.youtube.com/embed/Mrmr9nxnHEw?si=if1blCxe7Mo7zF2g\" title=\"YouTube video player\" frameborder=\"0\" allow=\"accelerometer; autoplay; clipboard-write; encrypted-media; gyroscope; picture-in-picture; web-share\" allowfullscreen style=\"border-radius:15px !important;\"></iframe></center>"
   ],
   "cell_type": "markdown",
   "metadata": {}
  }
 ]
}